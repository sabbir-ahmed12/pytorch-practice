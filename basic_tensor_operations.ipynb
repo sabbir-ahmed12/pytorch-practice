{
  "nbformat": 4,
  "nbformat_minor": 0,
  "metadata": {
    "colab": {
      "provenance": [],
      "authorship_tag": "ABX9TyOjrGsr13SjqDSwz/L2rJqp",
      "include_colab_link": true
    },
    "kernelspec": {
      "name": "python3",
      "display_name": "Python 3"
    },
    "language_info": {
      "name": "python"
    }
  },
  "cells": [
    {
      "cell_type": "markdown",
      "metadata": {
        "id": "view-in-github",
        "colab_type": "text"
      },
      "source": [
        "<a href=\"https://colab.research.google.com/github/sabbir-ahmed12/pytorch-practice/blob/main/basic_tensor_operations.ipynb\" target=\"_parent\"><img src=\"https://colab.research.google.com/assets/colab-badge.svg\" alt=\"Open In Colab\"/></a>"
      ]
    },
    {
      "cell_type": "markdown",
      "source": [
        "# **PyTorch Basics**\n",
        "- Tensor initialization and manipulation."
      ],
      "metadata": {
        "id": "u0lsqvg7ck7c"
      }
    },
    {
      "cell_type": "code",
      "execution_count": 74,
      "metadata": {
        "id": "317tBipqKDq0"
      },
      "outputs": [],
      "source": [
        "import torch"
      ]
    },
    {
      "cell_type": "markdown",
      "source": [
        "### **Setting up device**"
      ],
      "metadata": {
        "id": "wvZY2jEidsr4"
      }
    },
    {
      "cell_type": "code",
      "source": [
        "device = \"cuda\" if torch.cuda.is_available() else \"cpu\""
      ],
      "metadata": {
        "id": "KwiuzuhMd12p"
      },
      "execution_count": 75,
      "outputs": []
    },
    {
      "cell_type": "markdown",
      "source": [
        "### **Tensor Initialization**"
      ],
      "metadata": {
        "id": "JlTfH_DvdQ2R"
      }
    },
    {
      "cell_type": "code",
      "source": [
        "X = torch.tensor([[1, 2, 3], [4, 5, 6]], dtype=torch.float32, device=device, )\n",
        "print(X)"
      ],
      "metadata": {
        "colab": {
          "base_uri": "https://localhost:8080/"
        },
        "id": "eFQlCiSwdEoC",
        "outputId": "cf9556aa-ba20-4428-e48f-d4bc0458b9a7"
      },
      "execution_count": 76,
      "outputs": [
        {
          "output_type": "stream",
          "name": "stdout",
          "text": [
            "tensor([[1., 2., 3.],\n",
            "        [4., 5., 6.]])\n"
          ]
        }
      ]
    },
    {
      "cell_type": "code",
      "source": [
        "# Printing the data type\n",
        "print(X.dtype)"
      ],
      "metadata": {
        "colab": {
          "base_uri": "https://localhost:8080/"
        },
        "id": "Pj3CNdqseHH1",
        "outputId": "68a68cbf-177f-48ff-93d5-e54006f4b945"
      },
      "execution_count": 77,
      "outputs": [
        {
          "output_type": "stream",
          "name": "stdout",
          "text": [
            "torch.float32\n"
          ]
        }
      ]
    },
    {
      "cell_type": "code",
      "source": [
        "# Printing the shape\n",
        "print(X.shape)"
      ],
      "metadata": {
        "colab": {
          "base_uri": "https://localhost:8080/"
        },
        "id": "tSIAeHVdePns",
        "outputId": "dc1ade34-35a6-4705-8f79-e48e330ccda7"
      },
      "execution_count": 78,
      "outputs": [
        {
          "output_type": "stream",
          "name": "stdout",
          "text": [
            "torch.Size([2, 3])\n"
          ]
        }
      ]
    },
    {
      "cell_type": "code",
      "source": [
        "# Printing if gradient is required\n",
        "print(X.requires_grad)"
      ],
      "metadata": {
        "colab": {
          "base_uri": "https://localhost:8080/"
        },
        "id": "DBnL565seWlV",
        "outputId": "46850207-50fb-4b34-b682-40f86a4e0af4"
      },
      "execution_count": 79,
      "outputs": [
        {
          "output_type": "stream",
          "name": "stdout",
          "text": [
            "False\n"
          ]
        }
      ]
    },
    {
      "cell_type": "markdown",
      "source": [
        "**Empty Initialization (Random)**"
      ],
      "metadata": {
        "id": "psgD6T9XewV7"
      }
    },
    {
      "cell_type": "code",
      "source": [
        "X = torch.empty(size=(3, 3))\n",
        "print(X)"
      ],
      "metadata": {
        "colab": {
          "base_uri": "https://localhost:8080/"
        },
        "id": "NeyVspcrefzd",
        "outputId": "4a6c3ba3-fadb-49df-ea5d-9e68a089e0de"
      },
      "execution_count": 80,
      "outputs": [
        {
          "output_type": "stream",
          "name": "stdout",
          "text": [
            "tensor([[1.8308e-34, 0.0000e+00, 3.3631e-44],\n",
            "        [0.0000e+00,        nan, 6.0000e+00],\n",
            "        [4.4721e+21, 1.5956e+25, 4.7399e+16]])\n"
          ]
        }
      ]
    },
    {
      "cell_type": "markdown",
      "source": [
        "**Zero Initialization**"
      ],
      "metadata": {
        "id": "-M_IuW6Ge-GX"
      }
    },
    {
      "cell_type": "code",
      "source": [
        "X = torch.zeros((3, 3))\n",
        "print(X)"
      ],
      "metadata": {
        "colab": {
          "base_uri": "https://localhost:8080/"
        },
        "id": "NbyM6RvHe6ti",
        "outputId": "334326ed-79ef-4505-af8d-ef41234b06a1"
      },
      "execution_count": 81,
      "outputs": [
        {
          "output_type": "stream",
          "name": "stdout",
          "text": [
            "tensor([[0., 0., 0.],\n",
            "        [0., 0., 0.],\n",
            "        [0., 0., 0.]])\n"
          ]
        }
      ]
    },
    {
      "cell_type": "markdown",
      "source": [
        "**Random initialization from uniform distribution**"
      ],
      "metadata": {
        "id": "W0POZRuBfOms"
      }
    },
    {
      "cell_type": "code",
      "source": [
        "X = torch.rand((3, 3))\n",
        "print(X)"
      ],
      "metadata": {
        "colab": {
          "base_uri": "https://localhost:8080/"
        },
        "id": "_E3Ir0RZfHU7",
        "outputId": "9699c426-d24c-4fea-a65c-3ac8c1d9393c"
      },
      "execution_count": 82,
      "outputs": [
        {
          "output_type": "stream",
          "name": "stdout",
          "text": [
            "tensor([[0.0199, 0.9503, 0.0949],\n",
            "        [0.2596, 0.3932, 0.2099],\n",
            "        [0.0530, 0.9474, 0.6684]])\n"
          ]
        }
      ]
    },
    {
      "cell_type": "markdown",
      "source": [
        "**Ones Initialization**"
      ],
      "metadata": {
        "id": "G1EwjxWdfd8p"
      }
    },
    {
      "cell_type": "code",
      "source": [
        "X = torch.ones((3, 3))\n",
        "print(X)"
      ],
      "metadata": {
        "colab": {
          "base_uri": "https://localhost:8080/"
        },
        "id": "RHgHpMigfWcE",
        "outputId": "76cb2d8d-3e3b-41e7-dfd3-17a251a4c578"
      },
      "execution_count": 83,
      "outputs": [
        {
          "output_type": "stream",
          "name": "stdout",
          "text": [
            "tensor([[1., 1., 1.],\n",
            "        [1., 1., 1.],\n",
            "        [1., 1., 1.]])\n"
          ]
        }
      ]
    },
    {
      "cell_type": "markdown",
      "source": [
        "**Identity Matrix**"
      ],
      "metadata": {
        "id": "JEHfvrQ_foYa"
      }
    },
    {
      "cell_type": "code",
      "source": [
        "X = torch.eye(3, 3)\n",
        "print(X)"
      ],
      "metadata": {
        "colab": {
          "base_uri": "https://localhost:8080/"
        },
        "id": "XZPIE5Ysfmx1",
        "outputId": "ac415435-d9b3-413a-eb8e-938948fd0713"
      },
      "execution_count": 84,
      "outputs": [
        {
          "output_type": "stream",
          "name": "stdout",
          "text": [
            "tensor([[1., 0., 0.],\n",
            "        [0., 1., 0.],\n",
            "        [0., 0., 1.]])\n"
          ]
        }
      ]
    },
    {
      "cell_type": "markdown",
      "source": [
        "**Some other methods**"
      ],
      "metadata": {
        "id": "_FtpfkzgsoDD"
      }
    },
    {
      "cell_type": "code",
      "source": [
        "X = torch.arange(start=0, end=5, step=1)\n",
        "print(X)"
      ],
      "metadata": {
        "colab": {
          "base_uri": "https://localhost:8080/"
        },
        "id": "0Jrwjq-Gfu6D",
        "outputId": "54e38191-959a-46cc-cbe7-451dac82325c"
      },
      "execution_count": 85,
      "outputs": [
        {
          "output_type": "stream",
          "name": "stdout",
          "text": [
            "tensor([0, 1, 2, 3, 4])\n"
          ]
        }
      ]
    },
    {
      "cell_type": "code",
      "source": [
        "X = torch.linspace(start=0.1, end=1, steps=10)\n",
        "print(X)"
      ],
      "metadata": {
        "colab": {
          "base_uri": "https://localhost:8080/"
        },
        "id": "Ibf791BrswnH",
        "outputId": "dd52969d-8cc5-4114-cedc-f7ca02ec271a"
      },
      "execution_count": 86,
      "outputs": [
        {
          "output_type": "stream",
          "name": "stdout",
          "text": [
            "tensor([0.1000, 0.2000, 0.3000, 0.4000, 0.5000, 0.6000, 0.7000, 0.8000, 0.9000,\n",
            "        1.0000])\n"
          ]
        }
      ]
    },
    {
      "cell_type": "markdown",
      "source": [
        "**Diagonal Matrix**"
      ],
      "metadata": {
        "id": "F6NeWf24tQma"
      }
    },
    {
      "cell_type": "code",
      "source": [
        "X = torch.diag(torch.ones(3))\n",
        "print(X)"
      ],
      "metadata": {
        "colab": {
          "base_uri": "https://localhost:8080/"
        },
        "id": "a9D34NcUs3w6",
        "outputId": "8d5f92e2-1e4b-48e9-fec3-2d68a5dc1786"
      },
      "execution_count": 87,
      "outputs": [
        {
          "output_type": "stream",
          "name": "stdout",
          "text": [
            "tensor([[1., 0., 0.],\n",
            "        [0., 1., 0.],\n",
            "        [0., 0., 1.]])\n"
          ]
        }
      ]
    },
    {
      "cell_type": "markdown",
      "source": [
        "### **Tensor Type Conversion**"
      ],
      "metadata": {
        "id": "2KKVigg4tf4V"
      }
    },
    {
      "cell_type": "code",
      "source": [
        "X = torch.arange(4)"
      ],
      "metadata": {
        "id": "RzEy3xKmtW0s"
      },
      "execution_count": 88,
      "outputs": []
    },
    {
      "cell_type": "code",
      "source": [
        "# Converting to boolean type\n",
        "print(X.bool())"
      ],
      "metadata": {
        "colab": {
          "base_uri": "https://localhost:8080/"
        },
        "id": "w2SWKxX-tzIw",
        "outputId": "410dfeb6-7c7e-43f3-da6d-fb26214e6bca"
      },
      "execution_count": 89,
      "outputs": [
        {
          "output_type": "stream",
          "name": "stdout",
          "text": [
            "tensor([False,  True,  True,  True])\n"
          ]
        }
      ]
    },
    {
      "cell_type": "code",
      "source": [
        "# Converting to int16\n",
        "print(X.short())"
      ],
      "metadata": {
        "colab": {
          "base_uri": "https://localhost:8080/"
        },
        "id": "UjgKvkqht6Ch",
        "outputId": "22845992-279b-4449-f1f0-07208afd85a2"
      },
      "execution_count": 90,
      "outputs": [
        {
          "output_type": "stream",
          "name": "stdout",
          "text": [
            "tensor([0, 1, 2, 3], dtype=torch.int16)\n"
          ]
        }
      ]
    },
    {
      "cell_type": "code",
      "source": [
        "# Converting to int64\n",
        "print(X.long())"
      ],
      "metadata": {
        "colab": {
          "base_uri": "https://localhost:8080/"
        },
        "id": "RdVdUkyOuJDf",
        "outputId": "f8cab681-8d9f-4104-a44d-f561de700cce"
      },
      "execution_count": 91,
      "outputs": [
        {
          "output_type": "stream",
          "name": "stdout",
          "text": [
            "tensor([0, 1, 2, 3])\n"
          ]
        }
      ]
    },
    {
      "cell_type": "code",
      "source": [
        "# Converting to float16\n",
        "print(X.half())"
      ],
      "metadata": {
        "colab": {
          "base_uri": "https://localhost:8080/"
        },
        "id": "OKqbjCYAuMSN",
        "outputId": "eaee03f6-cd77-4a6a-9964-25f033c75cf7"
      },
      "execution_count": 92,
      "outputs": [
        {
          "output_type": "stream",
          "name": "stdout",
          "text": [
            "tensor([0., 1., 2., 3.], dtype=torch.float16)\n"
          ]
        }
      ]
    },
    {
      "cell_type": "code",
      "source": [
        "# Converting to float32\n",
        "print(X.float())"
      ],
      "metadata": {
        "colab": {
          "base_uri": "https://localhost:8080/"
        },
        "id": "nltcLQvPuS_c",
        "outputId": "627b5837-e39c-4e0e-9ff9-72ab6f642398"
      },
      "execution_count": 93,
      "outputs": [
        {
          "output_type": "stream",
          "name": "stdout",
          "text": [
            "tensor([0., 1., 2., 3.])\n"
          ]
        }
      ]
    },
    {
      "cell_type": "code",
      "source": [
        "# Converting to float64\n",
        "print(X.double())"
      ],
      "metadata": {
        "colab": {
          "base_uri": "https://localhost:8080/"
        },
        "id": "FCZaxBzEuXyY",
        "outputId": "4bbecfac-c1b4-493b-c6cc-734ad3afeab8"
      },
      "execution_count": 94,
      "outputs": [
        {
          "output_type": "stream",
          "name": "stdout",
          "text": [
            "tensor([0., 1., 2., 3.], dtype=torch.float64)\n"
          ]
        }
      ]
    },
    {
      "cell_type": "markdown",
      "source": [
        "### **Array to Tensor Conversion and Vice-Versa**"
      ],
      "metadata": {
        "id": "Jjy3DaQnue_y"
      }
    },
    {
      "cell_type": "code",
      "source": [
        "import numpy as np"
      ],
      "metadata": {
        "id": "7JXImlz6uc0V"
      },
      "execution_count": 95,
      "outputs": []
    },
    {
      "cell_type": "code",
      "source": [
        "X_arr = np.zeros((5, 5))\n",
        "print(X_arr)"
      ],
      "metadata": {
        "colab": {
          "base_uri": "https://localhost:8080/"
        },
        "id": "DdNRVm_FupBp",
        "outputId": "cc0eb97c-eb13-426f-b6ea-d893d8df0cb8"
      },
      "execution_count": 96,
      "outputs": [
        {
          "output_type": "stream",
          "name": "stdout",
          "text": [
            "[[0. 0. 0. 0. 0.]\n",
            " [0. 0. 0. 0. 0.]\n",
            " [0. 0. 0. 0. 0.]\n",
            " [0. 0. 0. 0. 0.]\n",
            " [0. 0. 0. 0. 0.]]\n"
          ]
        }
      ]
    },
    {
      "cell_type": "code",
      "source": [
        "# Array to Tensor\n",
        "X = torch.from_numpy(X_arr)\n",
        "print(X)"
      ],
      "metadata": {
        "colab": {
          "base_uri": "https://localhost:8080/"
        },
        "id": "l0nD2Vl0uucR",
        "outputId": "3b322c4a-8925-42a7-88dd-45bfc8fa4676"
      },
      "execution_count": 97,
      "outputs": [
        {
          "output_type": "stream",
          "name": "stdout",
          "text": [
            "tensor([[0., 0., 0., 0., 0.],\n",
            "        [0., 0., 0., 0., 0.],\n",
            "        [0., 0., 0., 0., 0.],\n",
            "        [0., 0., 0., 0., 0.],\n",
            "        [0., 0., 0., 0., 0.]], dtype=torch.float64)\n"
          ]
        }
      ]
    },
    {
      "cell_type": "code",
      "source": [
        " # Tensor to array\n",
        "print(X.numpy())"
      ],
      "metadata": {
        "colab": {
          "base_uri": "https://localhost:8080/"
        },
        "id": "hcEjfR0yu3xr",
        "outputId": "157d95b4-93f0-4150-f2cb-62206209d02d"
      },
      "execution_count": 98,
      "outputs": [
        {
          "output_type": "stream",
          "name": "stdout",
          "text": [
            "[[0. 0. 0. 0. 0.]\n",
            " [0. 0. 0. 0. 0.]\n",
            " [0. 0. 0. 0. 0.]\n",
            " [0. 0. 0. 0. 0.]\n",
            " [0. 0. 0. 0. 0.]]\n"
          ]
        }
      ]
    },
    {
      "cell_type": "markdown",
      "source": [
        "### **Tensor Math and Comparison Operations**"
      ],
      "metadata": {
        "id": "BK0qP9PxvbIH"
      }
    },
    {
      "cell_type": "code",
      "source": [
        "X = torch.tensor([1, 2, 3])\n",
        "Y = torch.tensor([9, 8, 7])"
      ],
      "metadata": {
        "id": "Zk-ZzSEbvDxm"
      },
      "execution_count": 99,
      "outputs": []
    },
    {
      "cell_type": "code",
      "source": [
        "# Addition\n",
        "Z1 = torch.add(X, Y)  # Z1 = X + Y\n",
        "print(Z1)"
      ],
      "metadata": {
        "colab": {
          "base_uri": "https://localhost:8080/"
        },
        "id": "c1CAe6uPvmj3",
        "outputId": "f5495e38-7830-4617-dc4d-7b759f5ddfc9"
      },
      "execution_count": 100,
      "outputs": [
        {
          "output_type": "stream",
          "name": "stdout",
          "text": [
            "tensor([10, 10, 10])\n"
          ]
        }
      ]
    },
    {
      "cell_type": "code",
      "source": [
        "# Subtraction\n",
        "Z2 = X - Y\n",
        "print(Z2)"
      ],
      "metadata": {
        "colab": {
          "base_uri": "https://localhost:8080/"
        },
        "id": "RL83Eutpvy69",
        "outputId": "0f902831-609f-4510-9ddb-2e1a8a661493"
      },
      "execution_count": 101,
      "outputs": [
        {
          "output_type": "stream",
          "name": "stdout",
          "text": [
            "tensor([-8, -6, -4])\n"
          ]
        }
      ]
    },
    {
      "cell_type": "code",
      "source": [
        "# Division\n",
        "Z3 = torch.true_divide(X, Y)\n",
        "print(Z3)"
      ],
      "metadata": {
        "colab": {
          "base_uri": "https://localhost:8080/"
        },
        "id": "lOXV5wG3v8fn",
        "outputId": "992001f7-7904-453e-f833-707505391d7e"
      },
      "execution_count": 102,
      "outputs": [
        {
          "output_type": "stream",
          "name": "stdout",
          "text": [
            "tensor([0.1111, 0.2500, 0.4286])\n"
          ]
        }
      ]
    },
    {
      "cell_type": "markdown",
      "source": [
        "**Inplace Operation**"
      ],
      "metadata": {
        "id": "qzCh9HyBwUWs"
      }
    },
    {
      "cell_type": "code",
      "source": [
        "T = torch.zeros(3)\n",
        "T.add_(X)\n",
        "print(T)"
      ],
      "metadata": {
        "colab": {
          "base_uri": "https://localhost:8080/"
        },
        "id": "whdCQ4TmwIEC",
        "outputId": "c902ac35-dda9-4e40-8e01-67745511a800"
      },
      "execution_count": 103,
      "outputs": [
        {
          "output_type": "stream",
          "name": "stdout",
          "text": [
            "tensor([1., 2., 3.])\n"
          ]
        }
      ]
    },
    {
      "cell_type": "code",
      "source": [
        "# OR\n",
        "T += X\n",
        "print(T)"
      ],
      "metadata": {
        "colab": {
          "base_uri": "https://localhost:8080/"
        },
        "id": "0doDV_RbwotI",
        "outputId": "d7df693b-5580-4e20-c019-0542be117dea"
      },
      "execution_count": 104,
      "outputs": [
        {
          "output_type": "stream",
          "name": "stdout",
          "text": [
            "tensor([2., 4., 6.])\n"
          ]
        }
      ]
    },
    {
      "cell_type": "code",
      "source": [
        "# Element-wise exponentiation\n",
        "Z = X ** 2\n",
        "print(Z)"
      ],
      "metadata": {
        "colab": {
          "base_uri": "https://localhost:8080/"
        },
        "id": "8KXBozCKwsxd",
        "outputId": "f8bb7148-f99e-4f74-8234-03336e9fc9f8"
      },
      "execution_count": 105,
      "outputs": [
        {
          "output_type": "stream",
          "name": "stdout",
          "text": [
            "tensor([1, 4, 9])\n"
          ]
        }
      ]
    },
    {
      "cell_type": "code",
      "source": [
        "# Element-wise comparsion\n",
        "X = X > 2\n",
        "print(X)"
      ],
      "metadata": {
        "colab": {
          "base_uri": "https://localhost:8080/"
        },
        "id": "SvI-sfnww96Y",
        "outputId": "273474da-d778-4b50-c8c0-42aad4764cd8"
      },
      "execution_count": 106,
      "outputs": [
        {
          "output_type": "stream",
          "name": "stdout",
          "text": [
            "tensor([False, False,  True])\n"
          ]
        }
      ]
    },
    {
      "cell_type": "markdown",
      "source": [
        "**Matrix Multiplication**"
      ],
      "metadata": {
        "id": "wEecQoeLxNkW"
      }
    },
    {
      "cell_type": "code",
      "source": [
        "X1 = torch.rand(2, 5)\n",
        "X2 = torch.rand(5, 3)\n",
        "\n",
        "Z3 = torch.mm(X1, X2)\n",
        "print(Z3)"
      ],
      "metadata": {
        "colab": {
          "base_uri": "https://localhost:8080/"
        },
        "id": "DgvTkAYCxHOc",
        "outputId": "96e1087f-7e3f-4f07-913c-05a46942886b"
      },
      "execution_count": 107,
      "outputs": [
        {
          "output_type": "stream",
          "name": "stdout",
          "text": [
            "tensor([[2.1954, 2.1640, 1.4954],\n",
            "        [1.6238, 1.8665, 1.3530]])\n"
          ]
        }
      ]
    },
    {
      "cell_type": "markdown",
      "source": [
        "**Matrix Exponentiation**"
      ],
      "metadata": {
        "id": "V3WcWvFQxh26"
      }
    },
    {
      "cell_type": "code",
      "source": [
        "X3 = torch.rand(4, 4)\n",
        "print(X3.matrix_power(3))"
      ],
      "metadata": {
        "colab": {
          "base_uri": "https://localhost:8080/"
        },
        "id": "J-SxDFt0xeD6",
        "outputId": "229d6a3e-f82a-476c-b0b3-c3d74dd7d163"
      },
      "execution_count": 108,
      "outputs": [
        {
          "output_type": "stream",
          "name": "stdout",
          "text": [
            "tensor([[1.4028, 2.7197, 2.3821, 0.8180],\n",
            "        [1.5527, 2.6685, 2.5814, 0.9879],\n",
            "        [2.0775, 3.5512, 3.2983, 1.1896],\n",
            "        [2.7033, 4.0324, 3.8045, 1.3624]])\n"
          ]
        }
      ]
    },
    {
      "cell_type": "markdown",
      "source": [
        "**Element-wise Multiplication**"
      ],
      "metadata": {
        "id": "G6_9Ax-Yxwvi"
      }
    },
    {
      "cell_type": "code",
      "source": [
        "X = torch.tensor([1, 2, 3])\n",
        "Y = torch.tensor([9, 8, 7])\n",
        "\n",
        "Z4 = X * Y\n",
        "print(Z4)"
      ],
      "metadata": {
        "colab": {
          "base_uri": "https://localhost:8080/"
        },
        "id": "HbvIHYmTxrrM",
        "outputId": "380a2dcf-bac4-4531-d771-d33a74c9542d"
      },
      "execution_count": 109,
      "outputs": [
        {
          "output_type": "stream",
          "name": "stdout",
          "text": [
            "tensor([ 9, 16, 21])\n"
          ]
        }
      ]
    },
    {
      "cell_type": "markdown",
      "source": [
        "**Dot Product**"
      ],
      "metadata": {
        "id": "I2KYIgx1yA3o"
      }
    },
    {
      "cell_type": "code",
      "source": [
        "Z5 = torch.dot(X, Y)\n",
        "\n",
        "print(Z5)"
      ],
      "metadata": {
        "colab": {
          "base_uri": "https://localhost:8080/"
        },
        "id": "V1SQQvt5x90n",
        "outputId": "e4bd7219-1609-4a0b-9bb1-526fa7bf7d4c"
      },
      "execution_count": 110,
      "outputs": [
        {
          "output_type": "stream",
          "name": "stdout",
          "text": [
            "tensor(46)\n"
          ]
        }
      ]
    },
    {
      "cell_type": "markdown",
      "source": [
        "**Batch Matrix Multiplication**"
      ],
      "metadata": {
        "id": "SR4PAngH5XmW"
      }
    },
    {
      "cell_type": "code",
      "source": [
        "batch = 32\n",
        "c = 10\n",
        "h = 20\n",
        "w = 30 \n",
        "\n",
        "T1 = torch.rand((batch, c, h))\n",
        "T2 = torch.rand((batch, h, w))\n",
        "\n",
        "T = torch.bmm(T1, T2)"
      ],
      "metadata": {
        "id": "LZgaZPKAyJBd"
      },
      "execution_count": 111,
      "outputs": []
    },
    {
      "cell_type": "code",
      "source": [
        "print(T.shape)"
      ],
      "metadata": {
        "colab": {
          "base_uri": "https://localhost:8080/"
        },
        "id": "yHW8Ae8y6FnD",
        "outputId": "6e101302-4ed6-4fe4-a10b-6bdf3df93a10"
      },
      "execution_count": 112,
      "outputs": [
        {
          "output_type": "stream",
          "name": "stdout",
          "text": [
            "torch.Size([32, 10, 30])\n"
          ]
        }
      ]
    },
    {
      "cell_type": "markdown",
      "source": [
        "**Broadcasting**"
      ],
      "metadata": {
        "id": "bn47FkMt6X7P"
      }
    },
    {
      "cell_type": "code",
      "source": [
        "X1 = torch.tensor([[1, 2, 3], [4, 5, 6], [7, 8, 9]])\n",
        "X2 = torch.tensor([1, 2, 3])\n",
        "\n",
        "print(X1)\n",
        "print(X2)"
      ],
      "metadata": {
        "colab": {
          "base_uri": "https://localhost:8080/"
        },
        "id": "qLDjU5th6Sd4",
        "outputId": "f18d058d-a601-4c6c-c95a-bd1f8383c41b"
      },
      "execution_count": 113,
      "outputs": [
        {
          "output_type": "stream",
          "name": "stdout",
          "text": [
            "tensor([[1, 2, 3],\n",
            "        [4, 5, 6],\n",
            "        [7, 8, 9]])\n",
            "tensor([1, 2, 3])\n"
          ]
        }
      ]
    },
    {
      "cell_type": "code",
      "source": [
        "Z = X1 - X2\n",
        "print(Z)"
      ],
      "metadata": {
        "colab": {
          "base_uri": "https://localhost:8080/"
        },
        "id": "na0hgA-d6i1u",
        "outputId": "3e8f4fef-69f5-412c-c718-fe52018d616f"
      },
      "execution_count": 114,
      "outputs": [
        {
          "output_type": "stream",
          "name": "stdout",
          "text": [
            "tensor([[0, 0, 0],\n",
            "        [3, 3, 3],\n",
            "        [6, 6, 6]])\n"
          ]
        }
      ]
    },
    {
      "cell_type": "code",
      "source": [
        "Z = X1 ** X2\n",
        "print(Z)"
      ],
      "metadata": {
        "colab": {
          "base_uri": "https://localhost:8080/"
        },
        "id": "aNQizvUP64wu",
        "outputId": "2dfb9119-3fe3-4d92-fec8-7ae5ef68df6e"
      },
      "execution_count": 115,
      "outputs": [
        {
          "output_type": "stream",
          "name": "stdout",
          "text": [
            "tensor([[  1,   4,  27],\n",
            "        [  4,  25, 216],\n",
            "        [  7,  64, 729]])\n"
          ]
        }
      ]
    },
    {
      "cell_type": "markdown",
      "source": [
        "**Summation of Row and Column Elements**"
      ],
      "metadata": {
        "id": "m6gSK3o47exm"
      }
    },
    {
      "cell_type": "code",
      "source": [
        "# Column element sum\n",
        "print(torch.sum(X1, dim=0))"
      ],
      "metadata": {
        "colab": {
          "base_uri": "https://localhost:8080/"
        },
        "id": "J14Xw3Vl7LMD",
        "outputId": "e2e48fcf-6bed-4752-bff2-73f4754b9e39"
      },
      "execution_count": 116,
      "outputs": [
        {
          "output_type": "stream",
          "name": "stdout",
          "text": [
            "tensor([12, 15, 18])\n"
          ]
        }
      ]
    },
    {
      "cell_type": "code",
      "source": [
        "# Row elements sum\n",
        "print(torch.sum(X1, dim=1))"
      ],
      "metadata": {
        "colab": {
          "base_uri": "https://localhost:8080/"
        },
        "id": "RVuKDdEH7YQ4",
        "outputId": "e85a5ce5-df20-474b-d212-4f7538e0def6"
      },
      "execution_count": 117,
      "outputs": [
        {
          "output_type": "stream",
          "name": "stdout",
          "text": [
            "tensor([ 6, 15, 24])\n"
          ]
        }
      ]
    },
    {
      "cell_type": "code",
      "source": [
        "# Summation of all elements\n",
        "print(torch.sum(X1))"
      ],
      "metadata": {
        "colab": {
          "base_uri": "https://localhost:8080/"
        },
        "id": "XogT94Qh7zY8",
        "outputId": "6e1ba17d-f0ce-4ec7-dc89-c67987a6b4fa"
      },
      "execution_count": 118,
      "outputs": [
        {
          "output_type": "stream",
          "name": "stdout",
          "text": [
            "tensor(45)\n"
          ]
        }
      ]
    },
    {
      "cell_type": "markdown",
      "source": [
        "**Finding the Maximum and Min Elements**"
      ],
      "metadata": {
        "id": "H2KZK2rC740B"
      }
    },
    {
      "cell_type": "code",
      "source": [
        "# Maximum element of a column\n",
        "value, idx = torch.max(X1, dim=0)\n",
        "print(value, idx)"
      ],
      "metadata": {
        "colab": {
          "base_uri": "https://localhost:8080/"
        },
        "id": "8g9X4lH372_5",
        "outputId": "595444e0-13c7-4fc7-e1f2-212b90ee9a37"
      },
      "execution_count": 119,
      "outputs": [
        {
          "output_type": "stream",
          "name": "stdout",
          "text": [
            "tensor([7, 8, 9]) tensor([2, 2, 2])\n"
          ]
        }
      ]
    },
    {
      "cell_type": "code",
      "source": [
        "value, idx = torch.min(X1, dim=0)\n",
        "print(value, idx)"
      ],
      "metadata": {
        "colab": {
          "base_uri": "https://localhost:8080/"
        },
        "id": "McsQk96b8Gui",
        "outputId": "f548b08e-a464-4bac-a6f1-bd70a2831f8b"
      },
      "execution_count": 120,
      "outputs": [
        {
          "output_type": "stream",
          "name": "stdout",
          "text": [
            "tensor([1, 2, 3]) tensor([0, 0, 0])\n"
          ]
        }
      ]
    },
    {
      "cell_type": "code",
      "source": [
        "# Maximum element\n",
        "print(X1)\n",
        "m = torch.argmax(X1, dim=0)\n",
        "print(m)"
      ],
      "metadata": {
        "colab": {
          "base_uri": "https://localhost:8080/"
        },
        "id": "oNkVDzzI8RzK",
        "outputId": "e25e205e-cc6e-41ae-fd06-0eaa57d27f15"
      },
      "execution_count": 121,
      "outputs": [
        {
          "output_type": "stream",
          "name": "stdout",
          "text": [
            "tensor([[1, 2, 3],\n",
            "        [4, 5, 6],\n",
            "        [7, 8, 9]])\n",
            "tensor([2, 2, 2])\n"
          ]
        }
      ]
    },
    {
      "cell_type": "code",
      "source": [
        "# Index of Minimum element\n",
        "print(torch.argmin(X1, dim=1))"
      ],
      "metadata": {
        "colab": {
          "base_uri": "https://localhost:8080/"
        },
        "id": "mdgQyEwW8cbO",
        "outputId": "a6e6b7dc-6526-499f-9a6a-3bafc7de116f"
      },
      "execution_count": 122,
      "outputs": [
        {
          "output_type": "stream",
          "name": "stdout",
          "text": [
            "tensor([0, 0, 0])\n"
          ]
        }
      ]
    },
    {
      "cell_type": "markdown",
      "source": [
        "**Mean Value**"
      ],
      "metadata": {
        "id": "_EeRgKbU9QON"
      }
    },
    {
      "cell_type": "code",
      "source": [
        "print(torch.mean(X1.float(), dim=0))"
      ],
      "metadata": {
        "colab": {
          "base_uri": "https://localhost:8080/"
        },
        "id": "Q5sg2rtf9LZl",
        "outputId": "42e9e032-80ad-4866-f958-c4fa3ec0c018"
      },
      "execution_count": 123,
      "outputs": [
        {
          "output_type": "stream",
          "name": "stdout",
          "text": [
            "tensor([4., 5., 6.])\n"
          ]
        }
      ]
    },
    {
      "cell_type": "markdown",
      "source": [
        "**Checking Equality**"
      ],
      "metadata": {
        "id": "6IlEGZm39vq8"
      }
    },
    {
      "cell_type": "code",
      "source": [
        "X1 = torch.tensor([1, 2, 3])\n",
        "X2 = torch.tensor([1, 5, 10])\n",
        "\n",
        "print(torch.eq(X1, X2))"
      ],
      "metadata": {
        "colab": {
          "base_uri": "https://localhost:8080/"
        },
        "id": "ue3f2mQY9XCb",
        "outputId": "cc1f08cb-c928-4774-d837-9cd5e96e9052"
      },
      "execution_count": 124,
      "outputs": [
        {
          "output_type": "stream",
          "name": "stdout",
          "text": [
            "tensor([ True, False, False])\n"
          ]
        }
      ]
    },
    {
      "cell_type": "markdown",
      "source": [
        "**Sorting**"
      ],
      "metadata": {
        "id": "ERMjwDbB9-Kr"
      }
    },
    {
      "cell_type": "code",
      "source": [
        "X1 = torch.tensor([[1, 2, 3], [4, 5, 6], [7, 8, 9]])\n",
        "sorted_X1, idx = torch.sort(X1, dim=0, descending=True)\n",
        "print(sorted_X1)"
      ],
      "metadata": {
        "colab": {
          "base_uri": "https://localhost:8080/"
        },
        "id": "W_MXc94Y96nQ",
        "outputId": "92a56e04-f0d4-42ac-bda6-483f71bebf52"
      },
      "execution_count": 125,
      "outputs": [
        {
          "output_type": "stream",
          "name": "stdout",
          "text": [
            "tensor([[7, 8, 9],\n",
            "        [4, 5, 6],\n",
            "        [1, 2, 3]])\n"
          ]
        }
      ]
    },
    {
      "cell_type": "markdown",
      "source": [
        "**Clamping**"
      ],
      "metadata": {
        "id": "SK2wa-Dv-z6_"
      }
    },
    {
      "cell_type": "code",
      "source": [
        "X1 = torch.tensor([[-1, 0, 4], [4, 5, 11]])\n",
        "print(torch.clamp(X1, min=0, max=10))"
      ],
      "metadata": {
        "colab": {
          "base_uri": "https://localhost:8080/"
        },
        "id": "2Ed5B7Eb-OSU",
        "outputId": "34a4bfde-e376-48cd-8dc9-3f0954d48a6f"
      },
      "execution_count": 126,
      "outputs": [
        {
          "output_type": "stream",
          "name": "stdout",
          "text": [
            "tensor([[ 0,  0,  4],\n",
            "        [ 4,  5, 10]])\n"
          ]
        }
      ]
    },
    {
      "cell_type": "markdown",
      "source": [
        "**Checking if any value is `True`**"
      ],
      "metadata": {
        "id": "tei7M-T4_iII"
      }
    },
    {
      "cell_type": "code",
      "source": [
        "X = torch.tensor([1, 0, 1, 1, 1], dtype=torch.bool)\n",
        "print(torch.any(X))"
      ],
      "metadata": {
        "colab": {
          "base_uri": "https://localhost:8080/"
        },
        "id": "yaoiIMRZ_E91",
        "outputId": "70b37ec4-16e2-4830-bd2b-4900aeeb162c"
      },
      "execution_count": 127,
      "outputs": [
        {
          "output_type": "stream",
          "name": "stdout",
          "text": [
            "tensor(True)\n"
          ]
        }
      ]
    },
    {
      "cell_type": "markdown",
      "source": [
        "**Checking if all value is `True`**"
      ],
      "metadata": {
        "id": "U5fR31WR_zyj"
      }
    },
    {
      "cell_type": "code",
      "source": [
        "print(torch.all(X))"
      ],
      "metadata": {
        "colab": {
          "base_uri": "https://localhost:8080/"
        },
        "id": "9Y4Uc7Nl_yKg",
        "outputId": "db550be3-1373-4897-fa55-a39abf06cf84"
      },
      "execution_count": 128,
      "outputs": [
        {
          "output_type": "stream",
          "name": "stdout",
          "text": [
            "tensor(False)\n"
          ]
        }
      ]
    },
    {
      "cell_type": "markdown",
      "source": [
        "### **Tensor Indexing**"
      ],
      "metadata": {
        "id": "rGphsYL1CmIr"
      }
    },
    {
      "cell_type": "code",
      "source": [
        "BATCH_SIZE = 16\n",
        "FEATURES = 32\n",
        "\n",
        "X = torch.rand((BATCH_SIZE, FEATURES))\n",
        "\n",
        "# Printing all features of first example\n",
        "print(X[0])"
      ],
      "metadata": {
        "colab": {
          "base_uri": "https://localhost:8080/"
        },
        "id": "z7DapqJP_7I3",
        "outputId": "ab15d3cb-8997-4085-d07c-cc12554b8a20"
      },
      "execution_count": 130,
      "outputs": [
        {
          "output_type": "stream",
          "name": "stdout",
          "text": [
            "tensor([0.7732, 0.1322, 0.1152, 0.0966, 0.8115, 0.0472, 0.0688, 0.8660, 0.5093,\n",
            "        0.1987, 0.2781, 0.7062, 0.7457, 0.0135, 0.1637, 0.7440, 0.6444, 0.2140,\n",
            "        0.6242, 0.7519, 0.4379, 0.5547, 0.7049, 0.8126, 0.4494, 0.7261, 0.2362,\n",
            "        0.1748, 0.9314, 0.6059, 0.0467, 0.3298])\n"
          ]
        }
      ]
    },
    {
      "cell_type": "code",
      "source": [
        "# Printing first feature of all examples\n",
        "print(X[0, :])"
      ],
      "metadata": {
        "colab": {
          "base_uri": "https://localhost:8080/"
        },
        "id": "P_ZRJpt_XJ5K",
        "outputId": "713fd3e2-a993-432e-b436-02a50407e4f0"
      },
      "execution_count": 131,
      "outputs": [
        {
          "output_type": "stream",
          "name": "stdout",
          "text": [
            "tensor([0.7732, 0.1322, 0.1152, 0.0966, 0.8115, 0.0472, 0.0688, 0.8660, 0.5093,\n",
            "        0.1987, 0.2781, 0.7062, 0.7457, 0.0135, 0.1637, 0.7440, 0.6444, 0.2140,\n",
            "        0.6242, 0.7519, 0.4379, 0.5547, 0.7049, 0.8126, 0.4494, 0.7261, 0.2362,\n",
            "        0.1748, 0.9314, 0.6059, 0.0467, 0.3298])\n"
          ]
        }
      ]
    },
    {
      "cell_type": "code",
      "source": [
        "# Printing 0 to 10 features of 3rd example\n",
        "print(X[2, 0:10])"
      ],
      "metadata": {
        "colab": {
          "base_uri": "https://localhost:8080/"
        },
        "id": "aYnUdBQNXmSr",
        "outputId": "8d1f41b1-b786-4af7-cbb0-9762bf485472"
      },
      "execution_count": 132,
      "outputs": [
        {
          "output_type": "stream",
          "name": "stdout",
          "text": [
            "tensor([0.5396, 0.8080, 0.1405, 0.2427, 0.8356, 0.6732, 0.7916, 0.8963, 0.5015,\n",
            "        0.7053])\n"
          ]
        }
      ]
    },
    {
      "cell_type": "markdown",
      "source": [
        "### **Tensor Reshaping**"
      ],
      "metadata": {
        "id": "RjauT2BBZiH8"
      }
    },
    {
      "cell_type": "code",
      "source": [
        "X = torch.arange(9)"
      ],
      "metadata": {
        "id": "8L_5_Y-EX7Yn"
      },
      "execution_count": 139,
      "outputs": []
    },
    {
      "cell_type": "code",
      "source": [
        "print(X.reshape(3, 3))  "
      ],
      "metadata": {
        "colab": {
          "base_uri": "https://localhost:8080/"
        },
        "id": "mKLJSulwYiOq",
        "outputId": "08c9ad4a-2066-42d3-8f04-f14a8b7b3901"
      },
      "execution_count": 140,
      "outputs": [
        {
          "output_type": "stream",
          "name": "stdout",
          "text": [
            "tensor([[0, 1, 2],\n",
            "        [3, 4, 5],\n",
            "        [6, 7, 8]])\n"
          ]
        }
      ]
    },
    {
      "cell_type": "code",
      "source": [
        "# To store contiguously\n",
        "print(X.view(3, 3))"
      ],
      "metadata": {
        "colab": {
          "base_uri": "https://localhost:8080/"
        },
        "id": "wXOCXY3aZwP6",
        "outputId": "ec709400-924e-46d0-ddd6-ce6e7d754459"
      },
      "execution_count": 141,
      "outputs": [
        {
          "output_type": "stream",
          "name": "stdout",
          "text": [
            "tensor([[0, 1, 2],\n",
            "        [3, 4, 5],\n",
            "        [6, 7, 8]])\n"
          ]
        }
      ]
    },
    {
      "cell_type": "code",
      "source": [
        "# Transposing tensor\n",
        "X = X.reshape(3, 3)\n",
        "print(X.t())"
      ],
      "metadata": {
        "colab": {
          "base_uri": "https://localhost:8080/"
        },
        "id": "OeD4KRBkZ2X8",
        "outputId": "df18c219-d01d-4466-dd18-ba45c9b1b7cc"
      },
      "execution_count": 143,
      "outputs": [
        {
          "output_type": "stream",
          "name": "stdout",
          "text": [
            "tensor([[0, 3, 6],\n",
            "        [1, 4, 7],\n",
            "        [2, 5, 8]])\n"
          ]
        }
      ]
    },
    {
      "cell_type": "markdown",
      "source": [
        "**Concatenating Tensors**"
      ],
      "metadata": {
        "id": "YJu9N5cmaZRL"
      }
    },
    {
      "cell_type": "code",
      "source": [
        "X1 = torch.rand((2, 5))\n",
        "X2 = torch.rand((2, 5))\n",
        "\n",
        "print(torch.cat((X1, X2), dim=0))\n"
      ],
      "metadata": {
        "colab": {
          "base_uri": "https://localhost:8080/"
        },
        "id": "DqPvUxXgaD29",
        "outputId": "897754aa-1d78-4b5c-f9b8-0e95594c0d27"
      },
      "execution_count": 144,
      "outputs": [
        {
          "output_type": "stream",
          "name": "stdout",
          "text": [
            "tensor([[0.5621, 0.3911, 0.6250, 0.3655, 0.0484],\n",
            "        [0.0569, 0.8404, 0.2008, 0.0706, 0.9036],\n",
            "        [0.1083, 0.7291, 0.0094, 0.2404, 0.2818],\n",
            "        [0.3422, 0.1029, 0.2514, 0.9950, 0.5089]])\n"
          ]
        }
      ]
    },
    {
      "cell_type": "markdown",
      "source": [
        "**Flattening Tensor**"
      ],
      "metadata": {
        "id": "GR32Cte0awG6"
      }
    },
    {
      "cell_type": "code",
      "source": [
        "X = torch.rand((2, 5))\n",
        "print(X.view(-1))"
      ],
      "metadata": {
        "colab": {
          "base_uri": "https://localhost:8080/"
        },
        "id": "Rb24L1fman8Y",
        "outputId": "689e2b2e-9aef-45e8-f469-187b4d694ebc"
      },
      "execution_count": 145,
      "outputs": [
        {
          "output_type": "stream",
          "name": "stdout",
          "text": [
            "tensor([0.9743, 0.2600, 0.1126, 0.9935, 0.7579, 0.0436, 0.0197, 0.8448, 0.4661,\n",
            "        0.0154])\n"
          ]
        }
      ]
    },
    {
      "cell_type": "code",
      "source": [
        "BATCH = 8\n",
        "X = torch.rand((BATCH, 2, 5))\n",
        "\n",
        "# Flattening only the last two dimensions\n",
        "print(X.view(BATCH, -1).shape)"
      ],
      "metadata": {
        "colab": {
          "base_uri": "https://localhost:8080/"
        },
        "id": "6KX5tl6Da7T1",
        "outputId": "13f8915f-d428-4753-bcca-a31f46e4fe95"
      },
      "execution_count": 147,
      "outputs": [
        {
          "output_type": "stream",
          "name": "stdout",
          "text": [
            "torch.Size([8, 10])\n"
          ]
        }
      ]
    },
    {
      "cell_type": "markdown",
      "source": [
        "**Altering Dimensions**"
      ],
      "metadata": {
        "id": "v886Qk0wbWcs"
      }
    },
    {
      "cell_type": "code",
      "source": [
        "X = torch.rand((8, 2, 5))\n",
        "\n",
        "# Keeping the first dimension same\n",
        "Z = X.permute(0, 2, 1)\n",
        "print(Z.shape)"
      ],
      "metadata": {
        "colab": {
          "base_uri": "https://localhost:8080/"
        },
        "id": "SqWt6BXkbMpg",
        "outputId": "8543af83-2548-4e6b-8d1f-fcddc1f89a43"
      },
      "execution_count": 149,
      "outputs": [
        {
          "output_type": "stream",
          "name": "stdout",
          "text": [
            "torch.Size([8, 5, 2])\n"
          ]
        }
      ]
    },
    {
      "cell_type": "markdown",
      "source": [
        "**Reducing Dimensions**"
      ],
      "metadata": {
        "id": "15GQr322b-NT"
      }
    },
    {
      "cell_type": "code",
      "source": [
        "X = torch.tensor([[[1, 2, 3]]])\n",
        "print(X.shape)"
      ],
      "metadata": {
        "colab": {
          "base_uri": "https://localhost:8080/"
        },
        "id": "f4bYMQOjbmaN",
        "outputId": "f215da03-acbe-4cb1-e13f-f7934ae831c4"
      },
      "execution_count": 152,
      "outputs": [
        {
          "output_type": "stream",
          "name": "stdout",
          "text": [
            "torch.Size([1, 1, 3])\n"
          ]
        }
      ]
    },
    {
      "cell_type": "code",
      "source": [
        "print(X)"
      ],
      "metadata": {
        "colab": {
          "base_uri": "https://localhost:8080/"
        },
        "id": "Ue9Goy2acpAm",
        "outputId": "a643e9a9-7383-449e-dc60-1db6d1bcc486"
      },
      "execution_count": 154,
      "outputs": [
        {
          "output_type": "stream",
          "name": "stdout",
          "text": [
            "tensor([[[1, 2, 3]]])\n"
          ]
        }
      ]
    },
    {
      "cell_type": "code",
      "source": [
        "Z = X.squeeze(dim=0)\n",
        "print(Z.shape)"
      ],
      "metadata": {
        "colab": {
          "base_uri": "https://localhost:8080/"
        },
        "id": "z6xD92rUcT0S",
        "outputId": "f2462d96-2371-4cb8-d15d-70573046f45d"
      },
      "execution_count": 153,
      "outputs": [
        {
          "output_type": "stream",
          "name": "stdout",
          "text": [
            "torch.Size([1, 3])\n"
          ]
        }
      ]
    },
    {
      "cell_type": "code",
      "source": [
        "print(Z)"
      ],
      "metadata": {
        "colab": {
          "base_uri": "https://localhost:8080/"
        },
        "id": "ZEajTWmzcrmP",
        "outputId": "56f0b2e6-4c06-4331-df91-6eedb4ebd7bb"
      },
      "execution_count": 155,
      "outputs": [
        {
          "output_type": "stream",
          "name": "stdout",
          "text": [
            "tensor([[1, 2, 3]])\n"
          ]
        }
      ]
    },
    {
      "cell_type": "code",
      "source": [],
      "metadata": {
        "id": "3onY0aPucmY6"
      },
      "execution_count": null,
      "outputs": []
    }
  ]
}