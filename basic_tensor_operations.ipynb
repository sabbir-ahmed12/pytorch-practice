{
  "nbformat": 4,
  "nbformat_minor": 0,
  "metadata": {
    "colab": {
      "provenance": [],
      "authorship_tag": "ABX9TyMDKxwJa2hCYp5DfajrNrp+",
      "include_colab_link": true
    },
    "kernelspec": {
      "name": "python3",
      "display_name": "Python 3"
    },
    "language_info": {
      "name": "python"
    }
  },
  "cells": [
    {
      "cell_type": "markdown",
      "metadata": {
        "id": "view-in-github",
        "colab_type": "text"
      },
      "source": [
        "<a href=\"https://colab.research.google.com/github/sabbir-ahmed12/pytorch-practice/blob/main/basic_tensor_operations.ipynb\" target=\"_parent\"><img src=\"https://colab.research.google.com/assets/colab-badge.svg\" alt=\"Open In Colab\"/></a>"
      ]
    },
    {
      "cell_type": "markdown",
      "source": [
        "# **PyTorch Basics**\n",
        "- Tensor initialization and manipulation."
      ],
      "metadata": {
        "id": "u0lsqvg7ck7c"
      }
    },
    {
      "cell_type": "code",
      "execution_count": 1,
      "metadata": {
        "id": "317tBipqKDq0"
      },
      "outputs": [],
      "source": [
        "import torch"
      ]
    },
    {
      "cell_type": "markdown",
      "source": [
        "### **Setting up device**"
      ],
      "metadata": {
        "id": "wvZY2jEidsr4"
      }
    },
    {
      "cell_type": "code",
      "source": [
        "device = \"cuda\" if torch.cuda.is_available() else \"cpu\""
      ],
      "metadata": {
        "id": "KwiuzuhMd12p"
      },
      "execution_count": 2,
      "outputs": []
    },
    {
      "cell_type": "markdown",
      "source": [
        "### **Tensor Initialization**"
      ],
      "metadata": {
        "id": "JlTfH_DvdQ2R"
      }
    },
    {
      "cell_type": "code",
      "source": [
        "X = torch.tensor([[1, 2, 3], [4, 5, 6]], dtype=torch.float32, device=device, )\n",
        "print(X)"
      ],
      "metadata": {
        "colab": {
          "base_uri": "https://localhost:8080/"
        },
        "id": "eFQlCiSwdEoC",
        "outputId": "1e63e107-627b-47f0-ae7e-5fc3024b8b0d"
      },
      "execution_count": 3,
      "outputs": [
        {
          "output_type": "stream",
          "name": "stdout",
          "text": [
            "tensor([[1., 2., 3.],\n",
            "        [4., 5., 6.]])\n"
          ]
        }
      ]
    },
    {
      "cell_type": "code",
      "source": [
        "# Printing the data type\n",
        "print(X.dtype)"
      ],
      "metadata": {
        "colab": {
          "base_uri": "https://localhost:8080/"
        },
        "id": "Pj3CNdqseHH1",
        "outputId": "5244ebe4-6f61-4427-9995-6979cffb5c20"
      },
      "execution_count": 4,
      "outputs": [
        {
          "output_type": "stream",
          "name": "stdout",
          "text": [
            "torch.float32\n"
          ]
        }
      ]
    },
    {
      "cell_type": "code",
      "source": [
        "# Printing the shape\n",
        "print(X.shape)"
      ],
      "metadata": {
        "colab": {
          "base_uri": "https://localhost:8080/"
        },
        "id": "tSIAeHVdePns",
        "outputId": "c9ab322e-a2c2-4a14-ddd6-b390835c95e0"
      },
      "execution_count": 5,
      "outputs": [
        {
          "output_type": "stream",
          "name": "stdout",
          "text": [
            "torch.Size([2, 3])\n"
          ]
        }
      ]
    },
    {
      "cell_type": "code",
      "source": [
        "# Printing if gradient is required\n",
        "print(X.requires_grad)"
      ],
      "metadata": {
        "colab": {
          "base_uri": "https://localhost:8080/"
        },
        "id": "DBnL565seWlV",
        "outputId": "aeaa78fd-c701-4f55-bcac-d15787b46f47"
      },
      "execution_count": 6,
      "outputs": [
        {
          "output_type": "stream",
          "name": "stdout",
          "text": [
            "False\n"
          ]
        }
      ]
    },
    {
      "cell_type": "markdown",
      "source": [
        "**Empty Initialization (Random)**"
      ],
      "metadata": {
        "id": "psgD6T9XewV7"
      }
    },
    {
      "cell_type": "code",
      "source": [
        "X = torch.empty(size=(3, 3))\n",
        "print(X)"
      ],
      "metadata": {
        "colab": {
          "base_uri": "https://localhost:8080/"
        },
        "id": "NeyVspcrefzd",
        "outputId": "fe98c5d6-6df3-4b86-b9d4-3c71b9e54478"
      },
      "execution_count": 7,
      "outputs": [
        {
          "output_type": "stream",
          "name": "stdout",
          "text": [
            "tensor([[2.4202e-35, 0.0000e+00, 3.3631e-44],\n",
            "        [0.0000e+00,        nan, 1.5554e-43],\n",
            "        [1.1578e+27, 1.1362e+30, 7.1547e+22]])\n"
          ]
        }
      ]
    },
    {
      "cell_type": "markdown",
      "source": [
        "**Zero Initialization**"
      ],
      "metadata": {
        "id": "-M_IuW6Ge-GX"
      }
    },
    {
      "cell_type": "code",
      "source": [
        "X = torch.zeros((3, 3))\n",
        "print(X)"
      ],
      "metadata": {
        "colab": {
          "base_uri": "https://localhost:8080/"
        },
        "id": "NbyM6RvHe6ti",
        "outputId": "5af67f90-3cf6-46bb-9dc7-6a25e09365b1"
      },
      "execution_count": 9,
      "outputs": [
        {
          "output_type": "stream",
          "name": "stdout",
          "text": [
            "tensor([[0., 0., 0.],\n",
            "        [0., 0., 0.],\n",
            "        [0., 0., 0.]])\n"
          ]
        }
      ]
    },
    {
      "cell_type": "markdown",
      "source": [
        "**Random initialization from uniform distribution**"
      ],
      "metadata": {
        "id": "W0POZRuBfOms"
      }
    },
    {
      "cell_type": "code",
      "source": [
        "X = torch.rand((3, 3))\n",
        "print(X)"
      ],
      "metadata": {
        "colab": {
          "base_uri": "https://localhost:8080/"
        },
        "id": "_E3Ir0RZfHU7",
        "outputId": "95864398-5483-4de4-eee7-0d49799cd206"
      },
      "execution_count": 10,
      "outputs": [
        {
          "output_type": "stream",
          "name": "stdout",
          "text": [
            "tensor([[0.9513, 0.6735, 0.3245],\n",
            "        [0.2420, 0.7076, 0.9891],\n",
            "        [0.3853, 0.6069, 0.3909]])\n"
          ]
        }
      ]
    },
    {
      "cell_type": "markdown",
      "source": [
        "**Ones Initialization**"
      ],
      "metadata": {
        "id": "G1EwjxWdfd8p"
      }
    },
    {
      "cell_type": "code",
      "source": [
        "X = torch.ones((3, 3))\n",
        "print(X)"
      ],
      "metadata": {
        "colab": {
          "base_uri": "https://localhost:8080/"
        },
        "id": "RHgHpMigfWcE",
        "outputId": "7b0dc401-516f-4d3b-f0bb-38d2c1bcfeb6"
      },
      "execution_count": 11,
      "outputs": [
        {
          "output_type": "stream",
          "name": "stdout",
          "text": [
            "tensor([[1., 1., 1.],\n",
            "        [1., 1., 1.],\n",
            "        [1., 1., 1.]])\n"
          ]
        }
      ]
    },
    {
      "cell_type": "markdown",
      "source": [
        "**Identity Matrix**"
      ],
      "metadata": {
        "id": "JEHfvrQ_foYa"
      }
    },
    {
      "cell_type": "code",
      "source": [
        "X = torch.eye(3, 3)\n",
        "print(X)"
      ],
      "metadata": {
        "colab": {
          "base_uri": "https://localhost:8080/"
        },
        "id": "XZPIE5Ysfmx1",
        "outputId": "bb240d98-2d8a-4b99-d78f-dece49abc121"
      },
      "execution_count": 13,
      "outputs": [
        {
          "output_type": "stream",
          "name": "stdout",
          "text": [
            "tensor([[1., 0., 0.],\n",
            "        [0., 1., 0.],\n",
            "        [0., 0., 1.]])\n"
          ]
        }
      ]
    },
    {
      "cell_type": "markdown",
      "source": [
        "**Some other methods**"
      ],
      "metadata": {
        "id": "_FtpfkzgsoDD"
      }
    },
    {
      "cell_type": "code",
      "source": [
        "X = torch.arange(start=0, end=5, step=1)\n",
        "print(X)"
      ],
      "metadata": {
        "colab": {
          "base_uri": "https://localhost:8080/"
        },
        "id": "0Jrwjq-Gfu6D",
        "outputId": "93606a12-ea65-48a7-9a77-7bb651437f4b"
      },
      "execution_count": 14,
      "outputs": [
        {
          "output_type": "stream",
          "name": "stdout",
          "text": [
            "tensor([0, 1, 2, 3, 4])\n"
          ]
        }
      ]
    },
    {
      "cell_type": "code",
      "source": [
        "X = torch.linspace(start=0.1, end=1, steps=10)\n",
        "print(X)"
      ],
      "metadata": {
        "colab": {
          "base_uri": "https://localhost:8080/"
        },
        "id": "Ibf791BrswnH",
        "outputId": "2bea1842-9999-4b27-8bb3-f3db596087bc"
      },
      "execution_count": 15,
      "outputs": [
        {
          "output_type": "stream",
          "name": "stdout",
          "text": [
            "tensor([0.1000, 0.2000, 0.3000, 0.4000, 0.5000, 0.6000, 0.7000, 0.8000, 0.9000,\n",
            "        1.0000])\n"
          ]
        }
      ]
    },
    {
      "cell_type": "markdown",
      "source": [
        "**Diagonal Matrix**"
      ],
      "metadata": {
        "id": "F6NeWf24tQma"
      }
    },
    {
      "cell_type": "code",
      "source": [
        "X = torch.diag(torch.ones(3))\n",
        "print(X)"
      ],
      "metadata": {
        "colab": {
          "base_uri": "https://localhost:8080/"
        },
        "id": "a9D34NcUs3w6",
        "outputId": "926c071d-2382-4111-c9d2-f4fc8d3e870c"
      },
      "execution_count": 16,
      "outputs": [
        {
          "output_type": "stream",
          "name": "stdout",
          "text": [
            "tensor([[1., 0., 0.],\n",
            "        [0., 1., 0.],\n",
            "        [0., 0., 1.]])\n"
          ]
        }
      ]
    },
    {
      "cell_type": "markdown",
      "source": [
        "### **Tensor Type Conversion**"
      ],
      "metadata": {
        "id": "2KKVigg4tf4V"
      }
    },
    {
      "cell_type": "code",
      "source": [
        "X = torch.arange(4)"
      ],
      "metadata": {
        "id": "RzEy3xKmtW0s"
      },
      "execution_count": 17,
      "outputs": []
    },
    {
      "cell_type": "code",
      "source": [
        "# Converting to boolean type\n",
        "print(X.bool())"
      ],
      "metadata": {
        "colab": {
          "base_uri": "https://localhost:8080/"
        },
        "id": "w2SWKxX-tzIw",
        "outputId": "08c1f10e-8893-45ac-9eeb-1e25a83d5cf1"
      },
      "execution_count": 18,
      "outputs": [
        {
          "output_type": "stream",
          "name": "stdout",
          "text": [
            "tensor([False,  True,  True,  True])\n"
          ]
        }
      ]
    },
    {
      "cell_type": "code",
      "source": [
        "# Converting to int16\n",
        "print(X.short())"
      ],
      "metadata": {
        "colab": {
          "base_uri": "https://localhost:8080/"
        },
        "id": "UjgKvkqht6Ch",
        "outputId": "0c49fa7a-aa02-4816-9994-275327a93aea"
      },
      "execution_count": 19,
      "outputs": [
        {
          "output_type": "stream",
          "name": "stdout",
          "text": [
            "tensor([0, 1, 2, 3], dtype=torch.int16)\n"
          ]
        }
      ]
    },
    {
      "cell_type": "code",
      "source": [
        "# Converting to int64\n",
        "print(X.long())"
      ],
      "metadata": {
        "colab": {
          "base_uri": "https://localhost:8080/"
        },
        "id": "RdVdUkyOuJDf",
        "outputId": "47222284-f634-434e-8d8a-7981be9a9758"
      },
      "execution_count": 20,
      "outputs": [
        {
          "output_type": "stream",
          "name": "stdout",
          "text": [
            "tensor([0, 1, 2, 3])\n"
          ]
        }
      ]
    },
    {
      "cell_type": "code",
      "source": [
        "# Converting to float16\n",
        "print(X.half())"
      ],
      "metadata": {
        "colab": {
          "base_uri": "https://localhost:8080/"
        },
        "id": "OKqbjCYAuMSN",
        "outputId": "a6f44a64-a8c4-4f45-c443-1b2b2109669e"
      },
      "execution_count": 21,
      "outputs": [
        {
          "output_type": "stream",
          "name": "stdout",
          "text": [
            "tensor([0., 1., 2., 3.], dtype=torch.float16)\n"
          ]
        }
      ]
    },
    {
      "cell_type": "code",
      "source": [
        "# Converting to float32\n",
        "print(X.float())"
      ],
      "metadata": {
        "colab": {
          "base_uri": "https://localhost:8080/"
        },
        "id": "nltcLQvPuS_c",
        "outputId": "7cf873db-ea7a-43b2-a38e-30f31a586bcd"
      },
      "execution_count": 22,
      "outputs": [
        {
          "output_type": "stream",
          "name": "stdout",
          "text": [
            "tensor([0., 1., 2., 3.])\n"
          ]
        }
      ]
    },
    {
      "cell_type": "code",
      "source": [
        "# Converting to float64\n",
        "print(X.double())"
      ],
      "metadata": {
        "colab": {
          "base_uri": "https://localhost:8080/"
        },
        "id": "FCZaxBzEuXyY",
        "outputId": "4d0bee41-94dc-48dd-adcb-4ec45c4e988d"
      },
      "execution_count": 23,
      "outputs": [
        {
          "output_type": "stream",
          "name": "stdout",
          "text": [
            "tensor([0., 1., 2., 3.], dtype=torch.float64)\n"
          ]
        }
      ]
    },
    {
      "cell_type": "markdown",
      "source": [
        "### **Array to Tensor Conversion and Vice-Versa**"
      ],
      "metadata": {
        "id": "Jjy3DaQnue_y"
      }
    },
    {
      "cell_type": "code",
      "source": [
        "import numpy as np"
      ],
      "metadata": {
        "id": "7JXImlz6uc0V"
      },
      "execution_count": 24,
      "outputs": []
    },
    {
      "cell_type": "code",
      "source": [
        "X_arr = np.zeros((5, 5))\n",
        "print(X_arr)"
      ],
      "metadata": {
        "colab": {
          "base_uri": "https://localhost:8080/"
        },
        "id": "DdNRVm_FupBp",
        "outputId": "cbb65b9d-6506-4df4-9446-98b38706b813"
      },
      "execution_count": 26,
      "outputs": [
        {
          "output_type": "stream",
          "name": "stdout",
          "text": [
            "[[0. 0. 0. 0. 0.]\n",
            " [0. 0. 0. 0. 0.]\n",
            " [0. 0. 0. 0. 0.]\n",
            " [0. 0. 0. 0. 0.]\n",
            " [0. 0. 0. 0. 0.]]\n"
          ]
        }
      ]
    },
    {
      "cell_type": "code",
      "source": [
        "# Array to Tensor\n",
        "X = torch.from_numpy(X_arr)\n",
        "print(X)"
      ],
      "metadata": {
        "colab": {
          "base_uri": "https://localhost:8080/"
        },
        "id": "l0nD2Vl0uucR",
        "outputId": "fd955c6a-f5df-4554-e323-c4e99579be30"
      },
      "execution_count": 27,
      "outputs": [
        {
          "output_type": "stream",
          "name": "stdout",
          "text": [
            "tensor([[0., 0., 0., 0., 0.],\n",
            "        [0., 0., 0., 0., 0.],\n",
            "        [0., 0., 0., 0., 0.],\n",
            "        [0., 0., 0., 0., 0.],\n",
            "        [0., 0., 0., 0., 0.]], dtype=torch.float64)\n"
          ]
        }
      ]
    },
    {
      "cell_type": "code",
      "source": [
        " # Tensor to array\n",
        "print(X.numpy())"
      ],
      "metadata": {
        "colab": {
          "base_uri": "https://localhost:8080/"
        },
        "id": "hcEjfR0yu3xr",
        "outputId": "707f4ea6-a416-46f7-b556-9fcf133dc562"
      },
      "execution_count": 30,
      "outputs": [
        {
          "output_type": "stream",
          "name": "stdout",
          "text": [
            "[[0. 0. 0. 0. 0.]\n",
            " [0. 0. 0. 0. 0.]\n",
            " [0. 0. 0. 0. 0.]\n",
            " [0. 0. 0. 0. 0.]\n",
            " [0. 0. 0. 0. 0.]]\n"
          ]
        }
      ]
    },
    {
      "cell_type": "markdown",
      "source": [
        "### **Tensor Math and Comparison Operations**"
      ],
      "metadata": {
        "id": "BK0qP9PxvbIH"
      }
    },
    {
      "cell_type": "code",
      "source": [
        "X = torch.tensor([1, 2, 3])\n",
        "Y = torch.tensor([9, 8, 7])"
      ],
      "metadata": {
        "id": "Zk-ZzSEbvDxm"
      },
      "execution_count": 31,
      "outputs": []
    },
    {
      "cell_type": "code",
      "source": [
        "# Addition\n",
        "Z1 = torch.add(X, Y)  # Z1 = X + Y\n",
        "print(Z1)"
      ],
      "metadata": {
        "colab": {
          "base_uri": "https://localhost:8080/"
        },
        "id": "c1CAe6uPvmj3",
        "outputId": "b7f2c8c5-c2f2-4ba8-b86e-48e074c4b9af"
      },
      "execution_count": 33,
      "outputs": [
        {
          "output_type": "stream",
          "name": "stdout",
          "text": [
            "tensor([10, 10, 10])\n"
          ]
        }
      ]
    },
    {
      "cell_type": "code",
      "source": [
        "# Subtraction\n",
        "Z2 = X - Y\n",
        "print(Z2)"
      ],
      "metadata": {
        "colab": {
          "base_uri": "https://localhost:8080/"
        },
        "id": "RL83Eutpvy69",
        "outputId": "8571dc23-4f82-4d97-a2c6-8e0f858d881a"
      },
      "execution_count": 34,
      "outputs": [
        {
          "output_type": "stream",
          "name": "stdout",
          "text": [
            "tensor([-8, -6, -4])\n"
          ]
        }
      ]
    },
    {
      "cell_type": "code",
      "source": [
        "# Division\n",
        "Z3 = torch.true_divide(X, Y)\n",
        "print(Z3)"
      ],
      "metadata": {
        "colab": {
          "base_uri": "https://localhost:8080/"
        },
        "id": "lOXV5wG3v8fn",
        "outputId": "1bc6ba0c-c584-4110-f369-b228fd761230"
      },
      "execution_count": 35,
      "outputs": [
        {
          "output_type": "stream",
          "name": "stdout",
          "text": [
            "tensor([0.1111, 0.2500, 0.4286])\n"
          ]
        }
      ]
    },
    {
      "cell_type": "markdown",
      "source": [
        "**Inplace Operation**"
      ],
      "metadata": {
        "id": "qzCh9HyBwUWs"
      }
    },
    {
      "cell_type": "code",
      "source": [
        "T = torch.zeros(3)\n",
        "T.add_(X)\n",
        "print(T)"
      ],
      "metadata": {
        "colab": {
          "base_uri": "https://localhost:8080/"
        },
        "id": "whdCQ4TmwIEC",
        "outputId": "b3e6bf9d-074c-4438-d77c-117dfc8f4aab"
      },
      "execution_count": 36,
      "outputs": [
        {
          "output_type": "stream",
          "name": "stdout",
          "text": [
            "tensor([1., 2., 3.])\n"
          ]
        }
      ]
    },
    {
      "cell_type": "code",
      "source": [
        "# OR\n",
        "T += X\n",
        "print(T)"
      ],
      "metadata": {
        "colab": {
          "base_uri": "https://localhost:8080/"
        },
        "id": "0doDV_RbwotI",
        "outputId": "22902619-297c-45ef-efe3-31c9fda894e8"
      },
      "execution_count": 37,
      "outputs": [
        {
          "output_type": "stream",
          "name": "stdout",
          "text": [
            "tensor([2., 4., 6.])\n"
          ]
        }
      ]
    },
    {
      "cell_type": "code",
      "source": [
        "# Element-wise exponentiation\n",
        "Z = X ** 2\n",
        "print(Z)"
      ],
      "metadata": {
        "colab": {
          "base_uri": "https://localhost:8080/"
        },
        "id": "8KXBozCKwsxd",
        "outputId": "2587cf1b-462f-451c-8e38-89895cafea63"
      },
      "execution_count": 38,
      "outputs": [
        {
          "output_type": "stream",
          "name": "stdout",
          "text": [
            "tensor([1, 4, 9])\n"
          ]
        }
      ]
    },
    {
      "cell_type": "code",
      "source": [
        "# Element-wise comparsion\n",
        "X = X > 2\n",
        "print(X)"
      ],
      "metadata": {
        "colab": {
          "base_uri": "https://localhost:8080/"
        },
        "id": "SvI-sfnww96Y",
        "outputId": "1e0835a3-e0e4-4e66-8e46-96d390413bed"
      },
      "execution_count": 39,
      "outputs": [
        {
          "output_type": "stream",
          "name": "stdout",
          "text": [
            "tensor([False, False,  True])\n"
          ]
        }
      ]
    },
    {
      "cell_type": "markdown",
      "source": [
        "**Matrix Multiplication**"
      ],
      "metadata": {
        "id": "wEecQoeLxNkW"
      }
    },
    {
      "cell_type": "code",
      "source": [
        "X1 = torch.rand(2, 5)\n",
        "X2 = torch.rand(5, 3)\n",
        "\n",
        "Z3 = torch.mm(X1, X2)\n",
        "print(Z3)"
      ],
      "metadata": {
        "colab": {
          "base_uri": "https://localhost:8080/"
        },
        "id": "DgvTkAYCxHOc",
        "outputId": "287274e9-a239-4380-e076-7de4f1dd262a"
      },
      "execution_count": 40,
      "outputs": [
        {
          "output_type": "stream",
          "name": "stdout",
          "text": [
            "tensor([[1.2076, 1.5116, 2.0725],\n",
            "        [1.0454, 1.2977, 2.0013]])\n"
          ]
        }
      ]
    },
    {
      "cell_type": "markdown",
      "source": [
        "**Matrix Exponentiation**"
      ],
      "metadata": {
        "id": "V3WcWvFQxh26"
      }
    },
    {
      "cell_type": "code",
      "source": [
        "X3 = torch.rand(4, 4)\n",
        "print(X3.matrix_power(3))"
      ],
      "metadata": {
        "colab": {
          "base_uri": "https://localhost:8080/"
        },
        "id": "J-SxDFt0xeD6",
        "outputId": "96a53b1e-5bd1-43cd-ca79-8f849e48f43c"
      },
      "execution_count": 41,
      "outputs": [
        {
          "output_type": "stream",
          "name": "stdout",
          "text": [
            "tensor([[4.0420, 3.0551, 3.3016, 3.1973],\n",
            "        [3.6235, 2.3460, 3.0922, 3.0385],\n",
            "        [2.4076, 1.9510, 2.0648, 1.9359],\n",
            "        [1.4799, 0.8432, 1.2923, 1.2510]])\n"
          ]
        }
      ]
    },
    {
      "cell_type": "markdown",
      "source": [
        "**Element-wise Multiplication**"
      ],
      "metadata": {
        "id": "G6_9Ax-Yxwvi"
      }
    },
    {
      "cell_type": "code",
      "source": [
        "X = torch.tensor([1, 2, 3])\n",
        "Y = torch.tensor([9, 8, 7])\n",
        "\n",
        "Z4 = X * Y\n",
        "print(Z4)"
      ],
      "metadata": {
        "colab": {
          "base_uri": "https://localhost:8080/"
        },
        "id": "HbvIHYmTxrrM",
        "outputId": "42c66df7-673d-4b21-a28c-ab8cc015b49b"
      },
      "execution_count": 42,
      "outputs": [
        {
          "output_type": "stream",
          "name": "stdout",
          "text": [
            "tensor([ 9, 16, 21])\n"
          ]
        }
      ]
    },
    {
      "cell_type": "markdown",
      "source": [
        "**Dot Product**"
      ],
      "metadata": {
        "id": "I2KYIgx1yA3o"
      }
    },
    {
      "cell_type": "code",
      "source": [
        "Z5 = torch.dot(X, Y)\n",
        "\n",
        "print(Z5)"
      ],
      "metadata": {
        "colab": {
          "base_uri": "https://localhost:8080/"
        },
        "id": "V1SQQvt5x90n",
        "outputId": "97c910d9-081a-4bb9-f3e6-202affb656d9"
      },
      "execution_count": 43,
      "outputs": [
        {
          "output_type": "stream",
          "name": "stdout",
          "text": [
            "tensor(46)\n"
          ]
        }
      ]
    },
    {
      "cell_type": "markdown",
      "source": [
        "**Batch Matrix Multiplication**"
      ],
      "metadata": {
        "id": "SR4PAngH5XmW"
      }
    },
    {
      "cell_type": "code",
      "source": [
        "batch = 32\n",
        "c = 10\n",
        "h = 20\n",
        "w = 30 \n",
        "\n",
        "T1 = torch.rand((batch, c, h))\n",
        "T2 = torch.rand((batch, h, w))\n",
        "\n",
        "T = torch.bmm(T1, T2)"
      ],
      "metadata": {
        "id": "LZgaZPKAyJBd"
      },
      "execution_count": 45,
      "outputs": []
    },
    {
      "cell_type": "code",
      "source": [
        "print(T.shape)"
      ],
      "metadata": {
        "colab": {
          "base_uri": "https://localhost:8080/"
        },
        "id": "yHW8Ae8y6FnD",
        "outputId": "465dc42c-8fb5-4aba-d4a4-0a11a2bd5cf1"
      },
      "execution_count": 46,
      "outputs": [
        {
          "output_type": "stream",
          "name": "stdout",
          "text": [
            "torch.Size([32, 10, 30])\n"
          ]
        }
      ]
    },
    {
      "cell_type": "markdown",
      "source": [
        "**Broadcasting**"
      ],
      "metadata": {
        "id": "bn47FkMt6X7P"
      }
    },
    {
      "cell_type": "code",
      "source": [
        "X1 = torch.tensor([[1, 2, 3], [4, 5, 6], [7, 8, 9]])\n",
        "X2 = torch.tensor([1, 2, 3])\n",
        "\n",
        "print(X1)\n",
        "print(X2)"
      ],
      "metadata": {
        "colab": {
          "base_uri": "https://localhost:8080/"
        },
        "id": "qLDjU5th6Sd4",
        "outputId": "ab01a0ac-4d56-4b8f-a25d-9556ac7e5fc8"
      },
      "execution_count": 48,
      "outputs": [
        {
          "output_type": "stream",
          "name": "stdout",
          "text": [
            "tensor([[1, 2, 3],\n",
            "        [4, 5, 6],\n",
            "        [7, 8, 9]])\n",
            "tensor([1, 2, 3])\n"
          ]
        }
      ]
    },
    {
      "cell_type": "code",
      "source": [
        "Z = X1 - X2\n",
        "print(Z)"
      ],
      "metadata": {
        "colab": {
          "base_uri": "https://localhost:8080/"
        },
        "id": "na0hgA-d6i1u",
        "outputId": "824e4cef-c60f-419e-abd3-7667c2b6791b"
      },
      "execution_count": 49,
      "outputs": [
        {
          "output_type": "stream",
          "name": "stdout",
          "text": [
            "tensor([[0, 0, 0],\n",
            "        [3, 3, 3],\n",
            "        [6, 6, 6]])\n"
          ]
        }
      ]
    },
    {
      "cell_type": "code",
      "source": [
        "Z = X1 ** X2\n",
        "print(Z)"
      ],
      "metadata": {
        "colab": {
          "base_uri": "https://localhost:8080/"
        },
        "id": "aNQizvUP64wu",
        "outputId": "d3c05a30-dcda-4f26-fb4e-a86930a7b735"
      },
      "execution_count": 50,
      "outputs": [
        {
          "output_type": "stream",
          "name": "stdout",
          "text": [
            "tensor([[  1,   4,  27],\n",
            "        [  4,  25, 216],\n",
            "        [  7,  64, 729]])\n"
          ]
        }
      ]
    },
    {
      "cell_type": "markdown",
      "source": [
        "**Summation of Row and Column Elements**"
      ],
      "metadata": {
        "id": "m6gSK3o47exm"
      }
    },
    {
      "cell_type": "code",
      "source": [
        "# Column element sum\n",
        "print(torch.sum(X1, dim=0))"
      ],
      "metadata": {
        "colab": {
          "base_uri": "https://localhost:8080/"
        },
        "id": "J14Xw3Vl7LMD",
        "outputId": "709c0305-fcda-42af-85ca-c6df0f0b41f4"
      },
      "execution_count": 53,
      "outputs": [
        {
          "output_type": "stream",
          "name": "stdout",
          "text": [
            "tensor([12, 15, 18])\n"
          ]
        }
      ]
    },
    {
      "cell_type": "code",
      "source": [
        "# Row elements sum\n",
        "print(torch.sum(X1, dim=1))"
      ],
      "metadata": {
        "colab": {
          "base_uri": "https://localhost:8080/"
        },
        "id": "RVuKDdEH7YQ4",
        "outputId": "5e6ace5e-1a19-434f-f34c-bcef136b5347"
      },
      "execution_count": 54,
      "outputs": [
        {
          "output_type": "stream",
          "name": "stdout",
          "text": [
            "tensor([ 6, 15, 24])\n"
          ]
        }
      ]
    },
    {
      "cell_type": "code",
      "source": [
        "# Summation of all elements\n",
        "print(torch.sum(X1))"
      ],
      "metadata": {
        "colab": {
          "base_uri": "https://localhost:8080/"
        },
        "id": "XogT94Qh7zY8",
        "outputId": "cc3a553b-22f5-48fa-e166-7e1b35dcd18d"
      },
      "execution_count": 55,
      "outputs": [
        {
          "output_type": "stream",
          "name": "stdout",
          "text": [
            "tensor(45)\n"
          ]
        }
      ]
    },
    {
      "cell_type": "markdown",
      "source": [
        "**Finding the Maximum and Min Elements**"
      ],
      "metadata": {
        "id": "H2KZK2rC740B"
      }
    },
    {
      "cell_type": "code",
      "source": [
        "# Maximum element of a column\n",
        "value, idx = torch.max(X1, dim=0)\n",
        "print(value, idx)"
      ],
      "metadata": {
        "colab": {
          "base_uri": "https://localhost:8080/"
        },
        "id": "8g9X4lH372_5",
        "outputId": "4dcdae49-4f56-490b-9537-bdf3a5a3af6c"
      },
      "execution_count": 57,
      "outputs": [
        {
          "output_type": "stream",
          "name": "stdout",
          "text": [
            "tensor([7, 8, 9]) tensor([2, 2, 2])\n"
          ]
        }
      ]
    },
    {
      "cell_type": "code",
      "source": [
        "value, idx = torch.min(X1, dim=0)\n",
        "print(value, idx)"
      ],
      "metadata": {
        "colab": {
          "base_uri": "https://localhost:8080/"
        },
        "id": "McsQk96b8Gui",
        "outputId": "9c80ea32-e17f-479f-94b9-815ac94e2aa6"
      },
      "execution_count": 59,
      "outputs": [
        {
          "output_type": "stream",
          "name": "stdout",
          "text": [
            "tensor([1, 2, 3]) tensor([0, 0, 0])\n"
          ]
        }
      ]
    },
    {
      "cell_type": "code",
      "source": [
        "# Maximum element\n",
        "print(X1)\n",
        "m = torch.argmax(X1, dim=0)\n",
        "print(m)"
      ],
      "metadata": {
        "colab": {
          "base_uri": "https://localhost:8080/"
        },
        "id": "oNkVDzzI8RzK",
        "outputId": "70b6055a-efac-4006-cb63-a05c97e34f60"
      },
      "execution_count": 63,
      "outputs": [
        {
          "output_type": "stream",
          "name": "stdout",
          "text": [
            "tensor([[1, 2, 3],\n",
            "        [4, 5, 6],\n",
            "        [7, 8, 9]])\n",
            "tensor([2, 2, 2])\n"
          ]
        }
      ]
    },
    {
      "cell_type": "code",
      "source": [
        "# Index of Minimum element\n",
        "print(torch.argmin(X1, dim=1))"
      ],
      "metadata": {
        "colab": {
          "base_uri": "https://localhost:8080/"
        },
        "id": "mdgQyEwW8cbO",
        "outputId": "109337f7-3050-4d3d-abf0-33bc6899a375"
      },
      "execution_count": 64,
      "outputs": [
        {
          "output_type": "stream",
          "name": "stdout",
          "text": [
            "tensor([0, 0, 0])\n"
          ]
        }
      ]
    },
    {
      "cell_type": "markdown",
      "source": [
        "**Mean Value**"
      ],
      "metadata": {
        "id": "_EeRgKbU9QON"
      }
    },
    {
      "cell_type": "code",
      "source": [
        "print(torch.mean(X1.float(), dim=0))"
      ],
      "metadata": {
        "colab": {
          "base_uri": "https://localhost:8080/"
        },
        "id": "Q5sg2rtf9LZl",
        "outputId": "ce7032ea-22b8-48c0-d5c9-e0d47e4c2d32"
      },
      "execution_count": 66,
      "outputs": [
        {
          "output_type": "stream",
          "name": "stdout",
          "text": [
            "tensor([4., 5., 6.])\n"
          ]
        }
      ]
    },
    {
      "cell_type": "markdown",
      "source": [
        "**Checking Equality**"
      ],
      "metadata": {
        "id": "6IlEGZm39vq8"
      }
    },
    {
      "cell_type": "code",
      "source": [
        "X1 = torch.tensor([1, 2, 3])\n",
        "X2 = torch.tensor([1, 5, 10])\n",
        "\n",
        "print(torch.eq(X1, X2))"
      ],
      "metadata": {
        "colab": {
          "base_uri": "https://localhost:8080/"
        },
        "id": "ue3f2mQY9XCb",
        "outputId": "48300c02-79d6-4470-ba15-06323df61f9f"
      },
      "execution_count": 67,
      "outputs": [
        {
          "output_type": "stream",
          "name": "stdout",
          "text": [
            "tensor([ True, False, False])\n"
          ]
        }
      ]
    },
    {
      "cell_type": "markdown",
      "source": [
        "**Sorting**"
      ],
      "metadata": {
        "id": "ERMjwDbB9-Kr"
      }
    },
    {
      "cell_type": "code",
      "source": [
        "X1 = torch.tensor([[1, 2, 3], [4, 5, 6], [7, 8, 9]])\n",
        "sorted_X1, idx = torch.sort(X1, dim=0, descending=True)\n",
        "print(sorted_X1)"
      ],
      "metadata": {
        "colab": {
          "base_uri": "https://localhost:8080/"
        },
        "id": "W_MXc94Y96nQ",
        "outputId": "988cbc92-6301-4059-d961-8a7af81ccd88"
      },
      "execution_count": 70,
      "outputs": [
        {
          "output_type": "stream",
          "name": "stdout",
          "text": [
            "tensor([[7, 8, 9],\n",
            "        [4, 5, 6],\n",
            "        [1, 2, 3]])\n"
          ]
        }
      ]
    },
    {
      "cell_type": "markdown",
      "source": [
        "**Clamping**"
      ],
      "metadata": {
        "id": "SK2wa-Dv-z6_"
      }
    },
    {
      "cell_type": "code",
      "source": [
        "X1 = torch.tensor([[-1, 0, 4], [4, 5, 11]])\n",
        "print(torch.clamp(X1, min=0, max=10))"
      ],
      "metadata": {
        "colab": {
          "base_uri": "https://localhost:8080/"
        },
        "id": "2Ed5B7Eb-OSU",
        "outputId": "84120642-0d15-4cca-f82d-2dd7718d1e0d"
      },
      "execution_count": 71,
      "outputs": [
        {
          "output_type": "stream",
          "name": "stdout",
          "text": [
            "tensor([[ 0,  0,  4],\n",
            "        [ 4,  5, 10]])\n"
          ]
        }
      ]
    },
    {
      "cell_type": "markdown",
      "source": [
        "**Checking if any value is `True`**"
      ],
      "metadata": {
        "id": "tei7M-T4_iII"
      }
    },
    {
      "cell_type": "code",
      "source": [
        "X = torch.tensor([1, 0, 1, 1, 1], dtype=torch.bool)\n",
        "print(torch.any(X))"
      ],
      "metadata": {
        "colab": {
          "base_uri": "https://localhost:8080/"
        },
        "id": "yaoiIMRZ_E91",
        "outputId": "28d27a6f-7a5e-4f38-b507-36f5faae0122"
      },
      "execution_count": 72,
      "outputs": [
        {
          "output_type": "stream",
          "name": "stdout",
          "text": [
            "tensor(True)\n"
          ]
        }
      ]
    },
    {
      "cell_type": "markdown",
      "source": [
        "**Checking if all value is `True`**"
      ],
      "metadata": {
        "id": "U5fR31WR_zyj"
      }
    },
    {
      "cell_type": "code",
      "source": [
        "print(torch.all(X))"
      ],
      "metadata": {
        "colab": {
          "base_uri": "https://localhost:8080/"
        },
        "id": "9Y4Uc7Nl_yKg",
        "outputId": "a91e9014-5f8a-46f8-d12b-ac565c7a96c8"
      },
      "execution_count": 73,
      "outputs": [
        {
          "output_type": "stream",
          "name": "stdout",
          "text": [
            "tensor(False)\n"
          ]
        }
      ]
    },
    {
      "cell_type": "markdown",
      "source": [
        "### **Tensor Indexing**"
      ],
      "metadata": {
        "id": "rGphsYL1CmIr"
      }
    },
    {
      "cell_type": "code",
      "source": [],
      "metadata": {
        "id": "z7DapqJP_7I3"
      },
      "execution_count": null,
      "outputs": []
    }
  ]
}